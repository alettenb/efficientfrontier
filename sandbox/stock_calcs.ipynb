{
 "cells": [
  {
   "cell_type": "code",
   "execution_count": 16,
   "metadata": {},
   "outputs": [
    {
     "data": {
      "text/plain": [
       "'0.0.7'"
      ]
     },
     "execution_count": 16,
     "metadata": {},
     "output_type": "execute_result"
    }
   ],
   "source": [
    "import efficientfrontier\n",
    "import bokeh.io\n",
    "import holoviews as hv\n",
    "import numpy as np\n",
    "efficientfrontier.__version__"
   ]
  },
  {
   "cell_type": "markdown",
   "metadata": {},
   "source": [
    "The stocks that we are going to look up."
   ]
  },
  {
   "cell_type": "code",
   "execution_count": 3,
   "metadata": {},
   "outputs": [],
   "source": [
    "stocks = ['GOOGL', 'AAPL', 'PG', 'JPM']"
   ]
  },
  {
   "cell_type": "markdown",
   "metadata": {},
   "source": [
    "For the sake of example, we will get some data for the stocks. For the stocks, we will get the open, close, high, low, and adjusted closing prices on a monthly (the default) timeframe."
   ]
  },
  {
   "cell_type": "code",
   "execution_count": 8,
   "metadata": {},
   "outputs": [
    {
     "data": {
      "text/html": [
       "<div>\n",
       "<style scoped>\n",
       "    .dataframe tbody tr th:only-of-type {\n",
       "        vertical-align: middle;\n",
       "    }\n",
       "\n",
       "    .dataframe tbody tr th {\n",
       "        vertical-align: top;\n",
       "    }\n",
       "\n",
       "    .dataframe thead tr th {\n",
       "        text-align: left;\n",
       "    }\n",
       "\n",
       "    .dataframe thead tr:last-of-type th {\n",
       "        text-align: right;\n",
       "    }\n",
       "</style>\n",
       "<table border=\"1\" class=\"dataframe\">\n",
       "  <thead>\n",
       "    <tr>\n",
       "      <th>Stock</th>\n",
       "      <th colspan=\"5\" halign=\"left\">GOOGL</th>\n",
       "      <th colspan=\"5\" halign=\"left\">AAPL</th>\n",
       "      <th colspan=\"5\" halign=\"left\">PG</th>\n",
       "      <th colspan=\"5\" halign=\"left\">JPM</th>\n",
       "    </tr>\n",
       "    <tr>\n",
       "      <th>Attribute</th>\n",
       "      <th>open</th>\n",
       "      <th>close</th>\n",
       "      <th>high</th>\n",
       "      <th>low</th>\n",
       "      <th>adjclose</th>\n",
       "      <th>open</th>\n",
       "      <th>close</th>\n",
       "      <th>high</th>\n",
       "      <th>low</th>\n",
       "      <th>adjclose</th>\n",
       "      <th>open</th>\n",
       "      <th>close</th>\n",
       "      <th>high</th>\n",
       "      <th>low</th>\n",
       "      <th>adjclose</th>\n",
       "      <th>open</th>\n",
       "      <th>close</th>\n",
       "      <th>high</th>\n",
       "      <th>low</th>\n",
       "      <th>adjclose</th>\n",
       "    </tr>\n",
       "    <tr>\n",
       "      <th>date</th>\n",
       "      <th></th>\n",
       "      <th></th>\n",
       "      <th></th>\n",
       "      <th></th>\n",
       "      <th></th>\n",
       "      <th></th>\n",
       "      <th></th>\n",
       "      <th></th>\n",
       "      <th></th>\n",
       "      <th></th>\n",
       "      <th></th>\n",
       "      <th></th>\n",
       "      <th></th>\n",
       "      <th></th>\n",
       "      <th></th>\n",
       "      <th></th>\n",
       "      <th></th>\n",
       "      <th></th>\n",
       "      <th></th>\n",
       "      <th></th>\n",
       "    </tr>\n",
       "  </thead>\n",
       "  <tbody>\n",
       "    <tr>\n",
       "      <th>2004-08-01</th>\n",
       "      <td>50.050049</td>\n",
       "      <td>51.236237</td>\n",
       "      <td>56.796795</td>\n",
       "      <td>48.028027</td>\n",
       "      <td>51.236237</td>\n",
       "      <td>2.227143</td>\n",
       "      <td>2.463571</td>\n",
       "      <td>2.512857</td>\n",
       "      <td>2.121428</td>\n",
       "      <td>2.138481</td>\n",
       "      <td>52.759998</td>\n",
       "      <td>55.970001</td>\n",
       "      <td>56.090000</td>\n",
       "      <td>52.610001</td>\n",
       "      <td>35.994305</td>\n",
       "      <td>37.230000</td>\n",
       "      <td>39.580002</td>\n",
       "      <td>39.799999</td>\n",
       "      <td>35.900002</td>\n",
       "      <td>26.139782</td>\n",
       "    </tr>\n",
       "    <tr>\n",
       "      <th>2004-09-01</th>\n",
       "      <td>51.401402</td>\n",
       "      <td>64.864868</td>\n",
       "      <td>67.577576</td>\n",
       "      <td>49.519520</td>\n",
       "      <td>64.864868</td>\n",
       "      <td>2.450000</td>\n",
       "      <td>2.767857</td>\n",
       "      <td>2.805000</td>\n",
       "      <td>2.442143</td>\n",
       "      <td>2.402613</td>\n",
       "      <td>55.970001</td>\n",
       "      <td>54.119999</td>\n",
       "      <td>56.950001</td>\n",
       "      <td>53.270000</td>\n",
       "      <td>34.804573</td>\n",
       "      <td>39.520000</td>\n",
       "      <td>39.730000</td>\n",
       "      <td>40.250000</td>\n",
       "      <td>38.950001</td>\n",
       "      <td>26.238848</td>\n",
       "    </tr>\n",
       "    <tr>\n",
       "      <th>2004-10-01</th>\n",
       "      <td>65.465462</td>\n",
       "      <td>95.415413</td>\n",
       "      <td>100.075073</td>\n",
       "      <td>64.514511</td>\n",
       "      <td>95.415413</td>\n",
       "      <td>2.794286</td>\n",
       "      <td>3.742857</td>\n",
       "      <td>3.800000</td>\n",
       "      <td>2.689286</td>\n",
       "      <td>3.248953</td>\n",
       "      <td>54.349998</td>\n",
       "      <td>51.180000</td>\n",
       "      <td>54.900002</td>\n",
       "      <td>50.529999</td>\n",
       "      <td>32.913860</td>\n",
       "      <td>39.900002</td>\n",
       "      <td>38.599998</td>\n",
       "      <td>40.450001</td>\n",
       "      <td>36.320000</td>\n",
       "      <td>25.492565</td>\n",
       "    </tr>\n",
       "    <tr>\n",
       "      <th>2004-11-01</th>\n",
       "      <td>96.871872</td>\n",
       "      <td>91.081078</td>\n",
       "      <td>100.900902</td>\n",
       "      <td>80.735733</td>\n",
       "      <td>91.081078</td>\n",
       "      <td>3.750000</td>\n",
       "      <td>4.789286</td>\n",
       "      <td>4.969285</td>\n",
       "      <td>3.717143</td>\n",
       "      <td>4.157295</td>\n",
       "      <td>51.250000</td>\n",
       "      <td>53.480000</td>\n",
       "      <td>54.950001</td>\n",
       "      <td>50.790001</td>\n",
       "      <td>34.555981</td>\n",
       "      <td>38.770000</td>\n",
       "      <td>37.650002</td>\n",
       "      <td>39.910000</td>\n",
       "      <td>37.060001</td>\n",
       "      <td>25.076508</td>\n",
       "    </tr>\n",
       "    <tr>\n",
       "      <th>2004-12-01</th>\n",
       "      <td>91.066063</td>\n",
       "      <td>96.491493</td>\n",
       "      <td>100.040039</td>\n",
       "      <td>84.319321</td>\n",
       "      <td>96.491493</td>\n",
       "      <td>4.842143</td>\n",
       "      <td>4.600000</td>\n",
       "      <td>4.853571</td>\n",
       "      <td>4.400000</td>\n",
       "      <td>3.992987</td>\n",
       "      <td>53.560001</td>\n",
       "      <td>55.080002</td>\n",
       "      <td>57.400002</td>\n",
       "      <td>53.549999</td>\n",
       "      <td>35.589828</td>\n",
       "      <td>37.799999</td>\n",
       "      <td>39.009998</td>\n",
       "      <td>39.480000</td>\n",
       "      <td>37.250000</td>\n",
       "      <td>25.982332</td>\n",
       "    </tr>\n",
       "  </tbody>\n",
       "</table>\n",
       "</div>"
      ],
      "text/plain": [
       "Stock           GOOGL                                                   AAPL  \\\n",
       "Attribute        open      close        high        low   adjclose      open   \n",
       "date                                                                           \n",
       "2004-08-01  50.050049  51.236237   56.796795  48.028027  51.236237  2.227143   \n",
       "2004-09-01  51.401402  64.864868   67.577576  49.519520  64.864868  2.450000   \n",
       "2004-10-01  65.465462  95.415413  100.075073  64.514511  95.415413  2.794286   \n",
       "2004-11-01  96.871872  91.081078  100.900902  80.735733  91.081078  3.750000   \n",
       "2004-12-01  91.066063  96.491493  100.040039  84.319321  96.491493  4.842143   \n",
       "\n",
       "Stock                                                      PG             \\\n",
       "Attribute      close      high       low  adjclose       open      close   \n",
       "date                                                                       \n",
       "2004-08-01  2.463571  2.512857  2.121428  2.138481  52.759998  55.970001   \n",
       "2004-09-01  2.767857  2.805000  2.442143  2.402613  55.970001  54.119999   \n",
       "2004-10-01  3.742857  3.800000  2.689286  3.248953  54.349998  51.180000   \n",
       "2004-11-01  4.789286  4.969285  3.717143  4.157295  51.250000  53.480000   \n",
       "2004-12-01  4.600000  4.853571  4.400000  3.992987  53.560001  55.080002   \n",
       "\n",
       "Stock                                              JPM                        \\\n",
       "Attribute        high        low   adjclose       open      close       high   \n",
       "date                                                                           \n",
       "2004-08-01  56.090000  52.610001  35.994305  37.230000  39.580002  39.799999   \n",
       "2004-09-01  56.950001  53.270000  34.804573  39.520000  39.730000  40.250000   \n",
       "2004-10-01  54.900002  50.529999  32.913860  39.900002  38.599998  40.450001   \n",
       "2004-11-01  54.950001  50.790001  34.555981  38.770000  37.650002  39.910000   \n",
       "2004-12-01  57.400002  53.549999  35.589828  37.799999  39.009998  39.480000   \n",
       "\n",
       "Stock                             \n",
       "Attribute         low   adjclose  \n",
       "date                              \n",
       "2004-08-01  35.900002  26.139782  \n",
       "2004-09-01  38.950001  26.238848  \n",
       "2004-10-01  36.320000  25.492565  \n",
       "2004-11-01  37.060001  25.076508  \n",
       "2004-12-01  37.250000  25.982332  "
      ]
     },
     "execution_count": 8,
     "metadata": {},
     "output_type": "execute_result"
    }
   ],
   "source": [
    "stock_data_df = efficientfrontier.get_data(stocks, ['open', 'close', 'high', 'low', 'adjclose'])\n",
    "stock_data_df.head()"
   ]
  },
  {
   "cell_type": "markdown",
   "metadata": {},
   "source": [
    "Now, we show how to get the returns for our stocks, on the default monthly basis."
   ]
  },
  {
   "cell_type": "code",
   "execution_count": 10,
   "metadata": {},
   "outputs": [
    {
     "data": {
      "text/html": [
       "<div>\n",
       "<style scoped>\n",
       "    .dataframe tbody tr th:only-of-type {\n",
       "        vertical-align: middle;\n",
       "    }\n",
       "\n",
       "    .dataframe tbody tr th {\n",
       "        vertical-align: top;\n",
       "    }\n",
       "\n",
       "    .dataframe thead th {\n",
       "        text-align: right;\n",
       "    }\n",
       "</style>\n",
       "<table border=\"1\" class=\"dataframe\">\n",
       "  <thead>\n",
       "    <tr style=\"text-align: right;\">\n",
       "      <th></th>\n",
       "      <th>GOOGL</th>\n",
       "      <th>AAPL</th>\n",
       "      <th>PG</th>\n",
       "      <th>JPM</th>\n",
       "    </tr>\n",
       "    <tr>\n",
       "      <th>date</th>\n",
       "      <th></th>\n",
       "      <th></th>\n",
       "      <th></th>\n",
       "      <th></th>\n",
       "    </tr>\n",
       "  </thead>\n",
       "  <tbody>\n",
       "    <tr>\n",
       "      <th>2004-09-01</th>\n",
       "      <td>0.265996</td>\n",
       "      <td>0.123514</td>\n",
       "      <td>-0.033053</td>\n",
       "      <td>0.003790</td>\n",
       "    </tr>\n",
       "    <tr>\n",
       "      <th>2004-10-01</th>\n",
       "      <td>0.470988</td>\n",
       "      <td>0.352258</td>\n",
       "      <td>-0.054324</td>\n",
       "      <td>-0.028442</td>\n",
       "    </tr>\n",
       "    <tr>\n",
       "      <th>2004-11-01</th>\n",
       "      <td>-0.045426</td>\n",
       "      <td>0.279580</td>\n",
       "      <td>0.049891</td>\n",
       "      <td>-0.016321</td>\n",
       "    </tr>\n",
       "    <tr>\n",
       "      <th>2004-12-01</th>\n",
       "      <td>0.059402</td>\n",
       "      <td>-0.039523</td>\n",
       "      <td>0.029918</td>\n",
       "      <td>0.036122</td>\n",
       "    </tr>\n",
       "    <tr>\n",
       "      <th>2005-01-01</th>\n",
       "      <td>0.014679</td>\n",
       "      <td>0.194100</td>\n",
       "      <td>-0.033588</td>\n",
       "      <td>-0.043066</td>\n",
       "    </tr>\n",
       "  </tbody>\n",
       "</table>\n",
       "</div>"
      ],
      "text/plain": [
       "               GOOGL      AAPL        PG       JPM\n",
       "date                                              \n",
       "2004-09-01  0.265996  0.123514 -0.033053  0.003790\n",
       "2004-10-01  0.470988  0.352258 -0.054324 -0.028442\n",
       "2004-11-01 -0.045426  0.279580  0.049891 -0.016321\n",
       "2004-12-01  0.059402 -0.039523  0.029918  0.036122\n",
       "2005-01-01  0.014679  0.194100 -0.033588 -0.043066"
      ]
     },
     "execution_count": 10,
     "metadata": {},
     "output_type": "execute_result"
    }
   ],
   "source": [
    "returns_df = efficientfrontier.get_returns(stocks)\n",
    "returns_df.head()"
   ]
  },
  {
   "cell_type": "markdown",
   "metadata": {},
   "source": [
    "Now, we will get the mean vector and covariance variance for the stocks."
   ]
  },
  {
   "cell_type": "code",
   "execution_count": 17,
   "metadata": {},
   "outputs": [
    {
     "name": "stdout",
     "output_type": "stream",
     "text": [
      "The means are: [[0.0220073  0.03178681 0.00761934 0.01178513]]\n",
      "The covariance matrix is:\n",
      " [[0.00795364 0.00411011 0.00028418 0.00168817]\n",
      " [0.00411011 0.00912217 0.00078359 0.00133717]\n",
      " [0.00028418 0.00078359 0.00178646 0.00082579]\n",
      " [0.00168817 0.00133717 0.00082579 0.00570995]]\n"
     ]
    }
   ],
   "source": [
    "means, variances = efficientfrontier.get_mean_and_variance(stocks)\n",
    "print('The means are:', np.transpose(means))\n",
    "print('The covariance matrix is:\\n', variances)"
   ]
  },
  {
   "cell_type": "markdown",
   "metadata": {},
   "source": [
    "Here, we get the Sharpe Weights for each of the stocks and display the DataFrame."
   ]
  },
  {
   "cell_type": "code",
   "execution_count": 18,
   "metadata": {},
   "outputs": [
    {
     "name": "stdout",
     "output_type": "stream",
     "text": [
      "   stock    weight\n",
      "0  GOOGL  0.162968\n",
      "1   AAPL  0.370312\n",
      "2     PG  0.363991\n",
      "3    JPM  0.102729\n"
     ]
    }
   ],
   "source": [
    "df = efficientfrontier.get_sharpe_weights(stocks)\n",
    "print(df)"
   ]
  },
  {
   "cell_type": "markdown",
   "metadata": {},
   "source": [
    "Now, we get the plot the efficient frontier graph for our stocks."
   ]
  },
  {
   "cell_type": "code",
   "execution_count": 19,
   "metadata": {},
   "outputs": [
    {
     "data": {
      "text/html": [
       "\n",
       "\n",
       "\n",
       "\n",
       "\n",
       "\n",
       "  <div class=\"bk-root\" id=\"260f72b0-82a8-4ee0-95a1-5e39ed408ce2\" data-root-id=\"1181\"></div>\n"
      ]
     },
     "metadata": {},
     "output_type": "display_data"
    },
    {
     "data": {
      "application/javascript": [
       "(function(root) {\n",
       "  function embed_document(root) {\n",
       "    \n",
       "  var docs_json = {\"fca78bd6-f250-4689-8ce7-90a4429743fc\":{\"roots\":{\"references\":[{\"attributes\":{\"below\":[{\"id\":\"1190\",\"type\":\"LinearAxis\"}],\"center\":[{\"id\":\"1194\",\"type\":\"Grid\"},{\"id\":\"1199\",\"type\":\"Grid\"},{\"id\":\"1231\",\"type\":\"Legend\"}],\"left\":[{\"id\":\"1195\",\"type\":\"LinearAxis\"}],\"margin\":null,\"min_border_bottom\":10,\"min_border_left\":10,\"min_border_right\":10,\"min_border_top\":10,\"plot_height\":500,\"renderers\":[{\"id\":\"1223\",\"type\":\"GlyphRenderer\"},{\"id\":\"1239\",\"type\":\"GlyphRenderer\"},{\"id\":\"1256\",\"type\":\"GlyphRenderer\"}],\"sizing_mode\":\"fixed\",\"title\":{\"id\":\"1182\",\"type\":\"Title\"},\"toolbar\":{\"id\":\"1205\",\"type\":\"Toolbar\"},\"x_range\":{\"id\":\"1177\",\"type\":\"Range1d\"},\"x_scale\":{\"id\":\"1186\",\"type\":\"LinearScale\"},\"y_range\":{\"id\":\"1178\",\"type\":\"Range1d\"},\"y_scale\":{\"id\":\"1188\",\"type\":\"LinearScale\"}},\"id\":\"1181\",\"subtype\":\"Figure\",\"type\":\"Plot\"},{\"attributes\":{\"axis_label\":\"Expected Monthly Return (%/month)\",\"bounds\":\"auto\",\"formatter\":{\"id\":\"1216\",\"type\":\"BasicTickFormatter\"},\"major_label_orientation\":\"horizontal\",\"ticker\":{\"id\":\"1196\",\"type\":\"BasicTicker\"}},\"id\":\"1195\",\"type\":\"LinearAxis\"},{\"attributes\":{},\"id\":\"1204\",\"type\":\"ResetTool\"},{\"attributes\":{},\"id\":\"1280\",\"type\":\"UnionRenderers\"},{\"attributes\":{},\"id\":\"1214\",\"type\":\"BasicTickFormatter\"},{\"attributes\":{},\"id\":\"1196\",\"type\":\"BasicTicker\"},{\"attributes\":{},\"id\":\"1201\",\"type\":\"PanTool\"},{\"attributes\":{\"fill_color\":{\"value\":\"red\"},\"line_color\":{\"value\":\"red\"},\"size\":{\"units\":\"screen\",\"value\":5},\"x\":{\"field\":\"Std\"},\"y\":{\"field\":\"Return\"}},\"id\":\"1253\",\"type\":\"Scatter\"},{\"attributes\":{\"bottom_units\":\"screen\",\"fill_alpha\":{\"value\":0.5},\"fill_color\":{\"value\":\"lightgrey\"},\"left_units\":\"screen\",\"level\":\"overlay\",\"line_alpha\":{\"value\":1.0},\"line_color\":{\"value\":\"black\"},\"line_dash\":[4,4],\"line_width\":{\"value\":2},\"render_mode\":\"css\",\"right_units\":\"screen\",\"top_units\":\"screen\"},\"id\":\"1230\",\"type\":\"BoxAnnotation\"},{\"attributes\":{\"callback\":null,\"renderers\":[{\"id\":\"1256\",\"type\":\"GlyphRenderer\"}],\"tags\":[\"hv_created\"],\"tooltips\":[[\"Std\",\"@{Std}\"],[\"Return\",\"@{Return}\"],[\"Weights\",\"@{Weights}\"]]},\"id\":\"1180\",\"type\":\"HoverTool\"},{\"attributes\":{\"dimension\":1,\"grid_line_color\":null,\"ticker\":{\"id\":\"1196\",\"type\":\"BasicTicker\"}},\"id\":\"1199\",\"type\":\"Grid\"},{\"attributes\":{\"active_drag\":\"auto\",\"active_inspect\":\"auto\",\"active_multi\":null,\"active_scroll\":\"auto\",\"active_tap\":\"auto\",\"tools\":[{\"id\":\"1179\",\"type\":\"HoverTool\"},{\"id\":\"1180\",\"type\":\"HoverTool\"},{\"id\":\"1200\",\"type\":\"SaveTool\"},{\"id\":\"1201\",\"type\":\"PanTool\"},{\"id\":\"1202\",\"type\":\"WheelZoomTool\"},{\"id\":\"1203\",\"type\":\"BoxZoomTool\"},{\"id\":\"1204\",\"type\":\"ResetTool\"}]},\"id\":\"1205\",\"type\":\"Toolbar\"},{\"attributes\":{\"label\":{\"value\":\"Efficient Frontier\"},\"renderers\":[{\"id\":\"1223\",\"type\":\"GlyphRenderer\"}]},\"id\":\"1232\",\"type\":\"LegendItem\"},{\"attributes\":{\"source\":{\"id\":\"1250\",\"type\":\"ColumnDataSource\"}},\"id\":\"1257\",\"type\":\"CDSView\"},{\"attributes\":{\"source\":{\"id\":\"1217\",\"type\":\"ColumnDataSource\"}},\"id\":\"1224\",\"type\":\"CDSView\"},{\"attributes\":{\"source\":{\"id\":\"1233\",\"type\":\"ColumnDataSource\"}},\"id\":\"1240\",\"type\":\"CDSView\"},{\"attributes\":{\"fill_color\":{\"value\":\"orange\"},\"line_color\":{\"value\":\"orange\"},\"size\":{\"units\":\"screen\",\"value\":5},\"x\":{\"field\":\"std\"},\"y\":{\"field\":\"return\"}},\"id\":\"1236\",\"type\":\"Scatter\"},{\"attributes\":{\"fill_alpha\":{\"value\":0.2},\"fill_color\":{\"value\":\"orange\"},\"line_alpha\":{\"value\":0.2},\"line_color\":{\"value\":\"orange\"},\"size\":{\"units\":\"screen\",\"value\":5},\"x\":{\"field\":\"std\"},\"y\":{\"field\":\"return\"}},\"id\":\"1238\",\"type\":\"Scatter\"},{\"attributes\":{\"fill_alpha\":{\"value\":0.1},\"fill_color\":{\"value\":\"red\"},\"line_alpha\":{\"value\":0.1},\"line_color\":{\"value\":\"red\"},\"size\":{\"units\":\"screen\",\"value\":5},\"x\":{\"field\":\"Std\"},\"y\":{\"field\":\"Return\"}},\"id\":\"1254\",\"type\":\"Scatter\"},{\"attributes\":{\"callback\":null,\"data\":{\"return\":{\"__ndarray__\":\"ORgm5hSJlj98T5ZgXEagP018KtR0NX8/4bxLg80iiD8=\",\"dtype\":\"float64\",\"shape\":[4]},\"std\":{\"__ndarray__\":\"w0hVwLXUtj8ThicMWXO4P569nlr0o6U/qdz3Hi1Ysz8=\",\"dtype\":\"float64\",\"shape\":[4]},\"stock\":[\"GOOGL\",\"AAPL\",\"PG\",\"JPM\"]},\"selected\":{\"id\":\"1234\",\"type\":\"Selection\"},\"selection_policy\":{\"id\":\"1267\",\"type\":\"UnionRenderers\"}},\"id\":\"1233\",\"type\":\"ColumnDataSource\"},{\"attributes\":{\"fill_alpha\":{\"value\":0.1},\"fill_color\":{\"value\":\"orange\"},\"line_alpha\":{\"value\":0.1},\"line_color\":{\"value\":\"orange\"},\"size\":{\"units\":\"screen\",\"value\":5},\"x\":{\"field\":\"std\"},\"y\":{\"field\":\"return\"}},\"id\":\"1237\",\"type\":\"Scatter\"},{\"attributes\":{\"data_source\":{\"id\":\"1250\",\"type\":\"ColumnDataSource\"},\"glyph\":{\"id\":\"1253\",\"type\":\"Scatter\"},\"hover_glyph\":null,\"muted_glyph\":{\"id\":\"1255\",\"type\":\"Scatter\"},\"nonselection_glyph\":{\"id\":\"1254\",\"type\":\"Scatter\"},\"selection_glyph\":null,\"view\":{\"id\":\"1257\",\"type\":\"CDSView\"}},\"id\":\"1256\",\"type\":\"GlyphRenderer\"},{\"attributes\":{\"fill_alpha\":{\"value\":0.2},\"fill_color\":{\"value\":\"red\"},\"line_alpha\":{\"value\":0.2},\"line_color\":{\"value\":\"red\"},\"size\":{\"units\":\"screen\",\"value\":5},\"x\":{\"field\":\"Std\"},\"y\":{\"field\":\"Return\"}},\"id\":\"1255\",\"type\":\"Scatter\"},{\"attributes\":{},\"id\":\"1267\",\"type\":\"UnionRenderers\"},{\"attributes\":{\"overlay\":{\"id\":\"1230\",\"type\":\"BoxAnnotation\"}},\"id\":\"1203\",\"type\":\"BoxZoomTool\"},{\"attributes\":{\"callback\":null,\"data\":{\"Return\":{\"__ndarray__\":\"0DprfkbOkz8=\",\"dtype\":\"float64\",\"shape\":[1]},\"Std\":{\"__ndarray__\":\"TJLq+xe0qj8=\",\"dtype\":\"float64\",\"shape\":[1]},\"Weights\":[\"GOOGL: 0.163\\nAAPL: 0.37\\nPG: 0.364\\nJPM: 0.103\\n\"]},\"selected\":{\"id\":\"1251\",\"type\":\"Selection\"},\"selection_policy\":{\"id\":\"1280\",\"type\":\"UnionRenderers\"}},\"id\":\"1250\",\"type\":\"ColumnDataSource\"},{\"attributes\":{\"label\":{\"value\":\"Stocks\"},\"renderers\":[{\"id\":\"1239\",\"type\":\"GlyphRenderer\"}]},\"id\":\"1249\",\"type\":\"LegendItem\"},{\"attributes\":{\"line_alpha\":0.2,\"line_color\":\"#30a2da\",\"line_width\":2,\"x\":{\"field\":\"Standard Deviation (%/month)\"},\"y\":{\"field\":\"Expected Monthly Return (%/month)\"}},\"id\":\"1222\",\"type\":\"Line\"},{\"attributes\":{\"text\":\"Efficient Frontier\",\"text_color\":{\"value\":\"black\"},\"text_font_size\":{\"value\":\"12pt\"}},\"id\":\"1182\",\"type\":\"Title\"},{\"attributes\":{\"line_alpha\":0.1,\"line_color\":\"#30a2da\",\"line_width\":2,\"x\":{\"field\":\"Standard Deviation (%/month)\"},\"y\":{\"field\":\"Expected Monthly Return (%/month)\"}},\"id\":\"1221\",\"type\":\"Line\"},{\"attributes\":{\"callback\":null,\"end\":0.03521933933486518,\"reset_end\":0.03521933933486518,\"reset_start\":0.006619339334865205,\"start\":0.006619339334865205,\"tags\":[[[\"Expected Monthly Return (%/month)\",\"Expected Monthly Return (%/month)\",null]]]},\"id\":\"1178\",\"type\":\"Range1d\"},{\"attributes\":{},\"id\":\"1248\",\"type\":\"UnionRenderers\"},{\"attributes\":{\"callback\":null,\"data\":{\"Expected Monthly Return (%/month)\":{\"__ndarray__\":\"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\",\"dtype\":\"float64\",\"shape\":[287]},\"Standard Deviation (%/month)\":{\"__ndarray__\":\"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\",\"dtype\":\"float64\",\"shape\":[287]}},\"selected\":{\"id\":\"1218\",\"type\":\"Selection\"},\"selection_policy\":{\"id\":\"1248\",\"type\":\"UnionRenderers\"}},\"id\":\"1217\",\"type\":\"ColumnDataSource\"},{\"attributes\":{\"grid_line_color\":null,\"ticker\":{\"id\":\"1191\",\"type\":\"BasicTicker\"}},\"id\":\"1194\",\"type\":\"Grid\"},{\"attributes\":{\"callback\":null,\"end\":0.10575172805706583,\"reset_end\":0.10575172805706583,\"reset_start\":0.03837617611000667,\"start\":0.03837617611000667,\"tags\":[[[\"Standard Deviation (%/month)\",\"Standard Deviation (%/month)\",null]]]},\"id\":\"1177\",\"type\":\"Range1d\"},{\"attributes\":{\"data_source\":{\"id\":\"1233\",\"type\":\"ColumnDataSource\"},\"glyph\":{\"id\":\"1236\",\"type\":\"Scatter\"},\"hover_glyph\":null,\"muted_glyph\":{\"id\":\"1238\",\"type\":\"Scatter\"},\"nonselection_glyph\":{\"id\":\"1237\",\"type\":\"Scatter\"},\"selection_glyph\":null,\"view\":{\"id\":\"1240\",\"type\":\"CDSView\"}},\"id\":\"1239\",\"type\":\"GlyphRenderer\"},{\"attributes\":{\"label\":{\"value\":\"Sharpe Ratio Portfolio\"},\"renderers\":[{\"id\":\"1256\",\"type\":\"GlyphRenderer\"}]},\"id\":\"1268\",\"type\":\"LegendItem\"},{\"attributes\":{},\"id\":\"1218\",\"type\":\"Selection\"},{\"attributes\":{\"click_policy\":\"mute\",\"items\":[{\"id\":\"1232\",\"type\":\"LegendItem\"},{\"id\":\"1249\",\"type\":\"LegendItem\"},{\"id\":\"1268\",\"type\":\"LegendItem\"}],\"location\":\"bottom_right\"},\"id\":\"1231\",\"type\":\"Legend\"},{\"attributes\":{},\"id\":\"1202\",\"type\":\"WheelZoomTool\"},{\"attributes\":{},\"id\":\"1188\",\"type\":\"LinearScale\"},{\"attributes\":{},\"id\":\"1200\",\"type\":\"SaveTool\"},{\"attributes\":{},\"id\":\"1251\",\"type\":\"Selection\"},{\"attributes\":{},\"id\":\"1234\",\"type\":\"Selection\"},{\"attributes\":{},\"id\":\"1186\",\"type\":\"LinearScale\"},{\"attributes\":{\"line_color\":\"#30a2da\",\"line_width\":2,\"x\":{\"field\":\"Standard Deviation (%/month)\"},\"y\":{\"field\":\"Expected Monthly Return (%/month)\"}},\"id\":\"1220\",\"type\":\"Line\"},{\"attributes\":{\"axis_label\":\"Standard Deviation (%/month)\",\"bounds\":\"auto\",\"formatter\":{\"id\":\"1214\",\"type\":\"BasicTickFormatter\"},\"major_label_orientation\":\"horizontal\",\"ticker\":{\"id\":\"1191\",\"type\":\"BasicTicker\"}},\"id\":\"1190\",\"type\":\"LinearAxis\"},{\"attributes\":{},\"id\":\"1191\",\"type\":\"BasicTicker\"},{\"attributes\":{},\"id\":\"1216\",\"type\":\"BasicTickFormatter\"},{\"attributes\":{\"callback\":null,\"renderers\":[{\"id\":\"1239\",\"type\":\"GlyphRenderer\"}],\"tags\":[\"hv_created\"],\"tooltips\":[[\"std\",\"@{std}\"],[\"return\",\"@{return}\"],[\"stock\",\"@{stock}\"]]},\"id\":\"1179\",\"type\":\"HoverTool\"},{\"attributes\":{\"data_source\":{\"id\":\"1217\",\"type\":\"ColumnDataSource\"},\"glyph\":{\"id\":\"1220\",\"type\":\"Line\"},\"hover_glyph\":null,\"muted_glyph\":{\"id\":\"1222\",\"type\":\"Line\"},\"nonselection_glyph\":{\"id\":\"1221\",\"type\":\"Line\"},\"selection_glyph\":null,\"view\":{\"id\":\"1224\",\"type\":\"CDSView\"}},\"id\":\"1223\",\"type\":\"GlyphRenderer\"}],\"root_ids\":[\"1181\"]},\"title\":\"Bokeh Application\",\"version\":\"1.3.4\"}};\n",
       "  var render_items = [{\"docid\":\"fca78bd6-f250-4689-8ce7-90a4429743fc\",\"roots\":{\"1181\":\"260f72b0-82a8-4ee0-95a1-5e39ed408ce2\"}}];\n",
       "  root.Bokeh.embed.embed_items_notebook(docs_json, render_items);\n",
       "\n",
       "  }\n",
       "  if (root.Bokeh !== undefined) {\n",
       "    embed_document(root);\n",
       "  } else {\n",
       "    var attempts = 0;\n",
       "    var timer = setInterval(function(root) {\n",
       "      if (root.Bokeh !== undefined) {\n",
       "        embed_document(root);\n",
       "        clearInterval(timer);\n",
       "      }\n",
       "      attempts++;\n",
       "      if (attempts > 100) {\n",
       "        console.log(\"Bokeh: ERROR: Unable to run BokehJS code because BokehJS library is missing\");\n",
       "        clearInterval(timer);\n",
       "      }\n",
       "    }, 10, root)\n",
       "  }\n",
       "})(window);"
      ],
      "application/vnd.bokehjs_exec.v0+json": ""
     },
     "metadata": {
      "application/vnd.bokehjs_exec.v0+json": {
       "id": "1181"
      }
     },
     "output_type": "display_data"
    }
   ],
   "source": [
    "graph = efficientfrontier.efficient_frontier_graph(stocks, width=600, height=500, use_sharpe_portfolio=True)\n",
    "p = hv.render(graph)\n",
    "p.legend.location='bottom_right'\n",
    "bokeh.io.show(p)"
   ]
  },
  {
   "cell_type": "markdown",
   "metadata": {},
   "source": [
    "<br/>"
   ]
  }
 ],
 "metadata": {
  "kernelspec": {
   "display_name": "Python 3",
   "language": "python",
   "name": "python3"
  },
  "language_info": {
   "codemirror_mode": {
    "name": "ipython",
    "version": 3
   },
   "file_extension": ".py",
   "mimetype": "text/x-python",
   "name": "python",
   "nbconvert_exporter": "python",
   "pygments_lexer": "ipython3",
   "version": "3.7.4"
  }
 },
 "nbformat": 4,
 "nbformat_minor": 4
}
